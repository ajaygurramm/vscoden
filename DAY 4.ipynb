{
 "cells": [
  {
   "cell_type": "code",
   "execution_count": null,
   "id": "6fa4afd6-86b2-48ea-85bb-4d1ba86de907",
   "metadata": {},
   "outputs": [],
   "source": []
  }
 ],
 "metadata": {
  "kernelspec": {
   "display_name": "",
   "name": ""
  },
  "language_info": {
   "name": ""
  }
 },
 "nbformat": 4,
 "nbformat_minor": 5
}
