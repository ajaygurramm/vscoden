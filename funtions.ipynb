{
 "cells": [
  {
   "cell_type": "markdown",
   "id": "4ff11e94-e7fc-455d-97f2-670a868ef092",
   "metadata": {},
   "source": [
    "# How to find builtin methods"
   ]
  },
  {
   "cell_type": "code",
   "execution_count": 2,
   "id": "32b90b8b-e157-49de-8995-9e445f49b30d",
   "metadata": {},
   "outputs": [
    {
     "name": "stdout",
     "output_type": "stream",
     "text": [
      "HELLO WORLD\n"
     ]
    }
   ],
   "source": [
    "a = \"hello world\"\n",
    "b = a.upper()\n",
    "print (b)"
   ]
  },
  {
   "cell_type": "code",
   "execution_count": 3,
   "id": "1e725f4c-951e-4f8e-a117-20e8e66f0d73",
   "metadata": {},
   "outputs": [
    {
     "name": "stdout",
     "output_type": "stream",
     "text": [
      "hello world\n"
     ]
    }
   ],
   "source": [
    "a = \"hello world\"\n",
    "b = a.lower()\n",
    "print (b)"
   ]
  },
  {
   "cell_type": "code",
   "execution_count": 4,
   "id": "3c0628dc-0ce2-4d7b-84c1-74f3b7df4246",
   "metadata": {},
   "outputs": [
    {
     "name": "stdout",
     "output_type": "stream",
     "text": [
      "AMMA\n"
     ]
    }
   ],
   "source": [
    "a = \"amma\"\n",
    "b = a.upper()\n",
    "print (b)"
   ]
  },
  {
   "cell_type": "code",
   "execution_count": 6,
   "id": "bfa18322-6b1e-4b92-a415-a3638063b0de",
   "metadata": {},
   "outputs": [
    {
     "name": "stdout",
     "output_type": "stream",
     "text": [
      "hello world\n"
     ]
    }
   ],
   "source": [
    "a = 'hello world'\n",
    "b = a.replace ('helo', 'hey')\n",
    "print(b)"
   ]
  },
  {
   "cell_type": "code",
   "execution_count": 7,
   "id": "5c93b2fa-989c-4976-97f2-ca5b03c97452",
   "metadata": {},
   "outputs": [
    {
     "name": "stdout",
     "output_type": "stream",
     "text": [
      "False\n"
     ]
    }
   ],
   "source": [
    "a = '1234asa'\n",
    "b = a.isdigit()\n",
    "print(b)"
   ]
  },
  {
   "cell_type": "code",
   "execution_count": 8,
   "id": "a75c1b10-8326-4112-8478-0e93c80728bd",
   "metadata": {},
   "outputs": [
    {
     "name": "stdout",
     "output_type": "stream",
     "text": [
      "range(0, 10)\n"
     ]
    }
   ],
   "source": [
    "a =range(10)\n",
    "print(a)"
   ]
  },
  {
   "cell_type": "code",
   "execution_count": 9,
   "id": "9ddac1a1-4e36-485a-951c-3b8fd0b87077",
   "metadata": {},
   "outputs": [
    {
     "name": "stdout",
     "output_type": "stream",
     "text": [
      "[0, 1, 2, 3, 4, 5, 6, 7, 8, 9]\n"
     ]
    }
   ],
   "source": [
    "a = range(10)\n",
    "b = list(a)\n",
    "print(b)"
   ]
  },
  {
   "cell_type": "code",
   "execution_count": 11,
   "id": "8b981532-76b3-4f2a-a2c3-7582e9f8ce2c",
   "metadata": {},
   "outputs": [
    {
     "ename": "IndentationError",
     "evalue": "expected an indented block after function definition on line 1 (1030136800.py, line 2)",
     "output_type": "error",
     "traceback": [
      "\u001b[1;36m  Cell \u001b[1;32mIn[11], line 2\u001b[1;36m\u001b[0m\n\u001b[1;33m    result = a+b\u001b[0m\n\u001b[1;37m    ^\u001b[0m\n\u001b[1;31mIndentationError\u001b[0m\u001b[1;31m:\u001b[0m expected an indented block after function definition on line 1\n"
     ]
    }
   ],
   "source": [
    "def add_numbers (a,b):\n",
    "result = a + b\n",
    "return result"
   ]
  },
  {
   "cell_type": "code",
   "execution_count": 12,
   "id": "7a796802-a5c9-4b1a-a13c-8facf0308bde",
   "metadata": {},
   "outputs": [
    {
     "name": "stdout",
     "output_type": "stream",
     "text": [
      "[5, 7, 9, 11, 13]\n"
     ]
    }
   ],
   "source": [
    "my_list = list(range(5,15,2))\n",
    "print(my_list)"
   ]
  },
  {
   "cell_type": "markdown",
   "id": "0be29e15-a8ea-4eeb-9066-7393196d0c4a",
   "metadata": {},
   "source": [
    "# how to creat a funtion "
   ]
  },
  {
   "cell_type": "code",
   "execution_count": 14,
   "id": "b5343eb7-c0e3-429f-848b-c9c8b439b1ef",
   "metadata": {},
   "outputs": [
    {
     "name": "stdout",
     "output_type": "stream",
     "text": [
      "12\n"
     ]
    }
   ],
   "source": [
    "def add_numbers (a,b):\n",
    "    result = a + b\n",
    "    return result\n",
    "\n",
    "result2 = add_numbers(10,2)\n",
    "print(result2)"
   ]
  },
  {
   "cell_type": "code",
   "execution_count": 15,
   "id": "70e539b9-4e3e-4d25-be90-8978dd4be017",
   "metadata": {},
   "outputs": [
    {
     "name": "stdout",
     "output_type": "stream",
     "text": [
      "20\n"
     ]
    }
   ],
   "source": [
    "def add_numbers (a,b):\n",
    "    result = a * b\n",
    "    return result\n",
    "\n",
    "result2 = add_numbers(10,2)\n",
    "print(result2)"
   ]
  },
  {
   "cell_type": "code",
   "execution_count": 20,
   "id": "f6f6017c-ecd4-4f96-aca9-3553e3126428",
   "metadata": {},
   "outputs": [
    {
     "name": "stdout",
     "output_type": "stream",
     "text": [
      "Sum 0f 1,2,3,4: 10\n",
      "Sum of 1,2,3,4,5: 15\n"
     ]
    }
   ],
   "source": [
    "def calculate_sum(*args):\n",
    "    total= sum(args)\n",
    "    return total\n",
    "print(\"Sum 0f 1,2,3,4:\", calculate_sum(1,2,3,4))\n",
    "print(\"Sum of 1,2,3,4,5:\", calculate_sum(1,2,3,4,5))"
   ]
  },
  {
   "cell_type": "markdown",
   "id": "d04b7b69-a4d3-43cb-82cf-0fce9bb78980",
   "metadata": {},
   "source": [
    "# lambda funtion"
   ]
  },
  {
   "cell_type": "markdown",
   "id": "127da200-f650-4db3-9169-9e67e96929c6",
   "metadata": {},
   "source": [
    "of referred as\n",
    "it is a anonoymous funtion\n",
    "1:lambda expression\n",
    "2:lambda funtion\n",
    "3:lambda form\n",
    "syntax: lambda arguments: expression\n",
    "add two numbers using a lambda funt"
   ]
  },
  {
   "cell_type": "code",
   "execution_count": 22,
   "id": "c08ae3ab-fa0b-4078-a796-c71a1f1e34f2",
   "metadata": {},
   "outputs": [
    {
     "name": "stdout",
     "output_type": "stream",
     "text": [
      "10\n"
     ]
    }
   ],
   "source": [
    "add = lambda x,y: x + y\n",
    "result = add(4,6)\n",
    "print(result)"
   ]
  },
  {
   "cell_type": "code",
   "execution_count": 23,
   "id": "f89cfa7e-ce46-4e4e-8b4f-eede03270ba6",
   "metadata": {},
   "outputs": [
    {
     "name": "stdout",
     "output_type": "stream",
     "text": [
      "True\n"
     ]
    }
   ],
   "source": [
    "is_palindrome = lambda s: s==s[::-1]\n",
    "print(is_palindrome(\"radar\"))\n"
   ]
  }
 ],
 "metadata": {
  "kernelspec": {
   "display_name": "Python 3 (ipykernel)",
   "language": "python",
   "name": "python3"
  },
  "language_info": {
   "codemirror_mode": {
    "name": "ipython",
    "version": 3
   },
   "file_extension": ".py",
   "mimetype": "text/x-python",
   "name": "python",
   "nbconvert_exporter": "python",
   "pygments_lexer": "ipython3",
   "version": "3.12.7"
  }
 },
 "nbformat": 4,
 "nbformat_minor": 5
}
