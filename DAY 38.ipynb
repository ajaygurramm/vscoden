{
 "cells": [
  {
   "cell_type": "code",
   "execution_count": 1,
   "id": "f5fd183f-ed82-451a-b45c-e0e58ec82644",
   "metadata": {},
   "outputs": [
    {
     "name": "stdout",
     "output_type": "stream",
     "text": [
      "Predicted Category: programming\n"
     ]
    }
   ],
   "source": [
    "from sklearn.feature_extraction.text import CountVectorizer\n",
    "from sklearn.naive_bayes import MultinomialNB\n",
    "from sklearn.pipeline import make_pipeline\n",
    "\n",
    "def train_and_predict_naive_bayes(texts, labels, new_text):\n",
    "    # Create a pipeline with CountVectorizer and MultinomialNB\n",
    "    model = make_pipeline(CountVectorizer(), MultinomialNB())\n",
    "    \n",
    "    # Train the model\n",
    "    model.fit(texts, labels)\n",
    "    \n",
    "    # Predict the category of the new text\n",
    "    predicted_label = model.predict([new_text])[0]\n",
    "    \n",
    "    return predicted_label\n",
    "\n",
    "# Example usage\n",
    "texts = [\"I love programming\", \"Python is great\", \"Machine learning is amazing\", \"I enjoy coding\", \"Data science is fascinating\"]\n",
    "labels = [\"programming\", \"programming\", \"machine learning\", \"programming\", \"machine learning\"]\n",
    "new_text = \"I like writing Python code\"\n",
    "predicted_category = train_and_predict_naive_bayes(texts, labels, new_text)\n",
    "\n",
    "print(f\"Predicted Category: {predicted_category}\")"
   ]
  },
  {
   "cell_type": "code",
   "execution_count": null,
   "id": "8e10d25e-0673-4fb0-a6da-e0b519b1b97a",
   "metadata": {},
   "outputs": [],
   "source": []
  }
 ],
 "metadata": {
  "kernelspec": {
   "display_name": "Python 3 (ipykernel)",
   "language": "python",
   "name": "python3"
  },
  "language_info": {
   "codemirror_mode": {
    "name": "ipython",
    "version": 3
   },
   "file_extension": ".py",
   "mimetype": "text/x-python",
   "name": "python",
   "nbconvert_exporter": "python",
   "pygments_lexer": "ipython3",
   "version": "3.12.7"
  }
 },
 "nbformat": 4,
 "nbformat_minor": 5
}
