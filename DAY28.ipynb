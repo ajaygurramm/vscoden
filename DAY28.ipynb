{
 "cells": [
  {
   "cell_type": "code",
   "execution_count": 1,
   "id": "45fc5b4e-a181-4fb2-afe2-ec4e6899ca54",
   "metadata": {},
   "outputs": [
    {
     "name": "stdout",
     "output_type": "stream",
     "text": [
      "Entity: Barack Obama, Type: PERSON\n",
      "Entity: 44th, Type: ORDINAL\n",
      "Entity: the United States, Type: GPE\n",
      "Entity: Hawaii, Type: GPE\n"
     ]
    }
   ],
   "source": [
    "import spacy\n",
    "\n",
    "def perform_ner(text):\n",
    "    # Load the English NLP model from SpaCy\n",
    "    nlp = spacy.load(\"en_core_web_sm\")\n",
    "    \n",
    "    # Process the text\n",
    "    doc = nlp(text)\n",
    "    \n",
    "    # Extract entities and their labels\n",
    "    entities = [(ent.text, ent.label_) for ent in doc.ents]\n",
    "    \n",
    "    # Print the results\n",
    "    for entity, label in entities:\n",
    "        print(f\"Entity: {entity}, Type: {label}\")\n",
    "\n",
    "# Example usage\n",
    "text = \"Barack Obama was the 44th President of the United States and was born in Hawaii.\"\n",
    "perform_ner(text)\n"
   ]
  }
 ],
 "metadata": {
  "kernelspec": {
   "display_name": "Python 3 (ipykernel)",
   "language": "python",
   "name": "python3"
  },
  "language_info": {
   "codemirror_mode": {
    "name": "ipython",
    "version": 3
   },
   "file_extension": ".py",
   "mimetype": "text/x-python",
   "name": "python",
   "nbconvert_exporter": "python",
   "pygments_lexer": "ipython3",
   "version": "3.12.7"
  }
 },
 "nbformat": 4,
 "nbformat_minor": 5
}
