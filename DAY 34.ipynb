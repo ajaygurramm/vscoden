{
 "cells": [
  {
   "cell_type": "code",
   "execution_count": 1,
   "id": "014a1453-0634-4010-acb6-070823a78e19",
   "metadata": {},
   "outputs": [
    {
     "name": "stdout",
     "output_type": "stream",
     "text": [
      "Bag of Words Representation:\n",
      "[[0 0 0 0 1 1 1]\n",
      " [0 0 1 1 1 0 1]\n",
      " [1 1 0 1 1 0 0]]\n",
      "Features: ['amazing' 'deep' 'fun' 'is' 'learning' 'love' 'machine']\n",
      "\n",
      "TF-IDF Representation:\n",
      "[[0.         0.         0.         0.         0.42544054 0.72033345\n",
      "  0.54783215]\n",
      " [0.         0.         0.63174505 0.4804584  0.37311881 0.\n",
      "  0.4804584 ]\n",
      " [0.5844829  0.5844829  0.         0.44451431 0.34520502 0.\n",
      "  0.        ]]\n",
      "Features: ['amazing' 'deep' 'fun' 'is' 'learning' 'love' 'machine']\n"
     ]
    }
   ],
   "source": [
    "from sklearn.feature_extraction.text import CountVectorizer, TfidfVectorizer\n",
    "\n",
    "def bow_and_tfidf_representation(texts):\n",
    "    # Initialize CountVectorizer for Bag of Words (BoW)\n",
    "    count_vectorizer = CountVectorizer()\n",
    "    bow_matrix = count_vectorizer.fit_transform(texts)\n",
    "    \n",
    "    # Initialize TfidfVectorizer for TF-IDF\n",
    "    tfidf_vectorizer = TfidfVectorizer()\n",
    "    tfidf_matrix = tfidf_vectorizer.fit_transform(texts)\n",
    "    \n",
    "    # Convert to array for better readability\n",
    "    bow_array = bow_matrix.toarray()\n",
    "    tfidf_array = tfidf_matrix.toarray()\n",
    "    \n",
    "    # Get feature names\n",
    "    bow_features = count_vectorizer.get_feature_names_out()\n",
    "    tfidf_features = tfidf_vectorizer.get_feature_names_out()\n",
    "    \n",
    "    return bow_array, bow_features, tfidf_array, tfidf_features\n",
    "\n",
    "# Example usage\n",
    "texts = [\"I love machine learning\", \"Machine learning is fun\", \"Deep learning is amazing\"]\n",
    "bow, bow_feat, tfidf, tfidf_feat = bow_and_tfidf_representation(texts)\n",
    "\n",
    "print(\"Bag of Words Representation:\")\n",
    "print(bow)\n",
    "print(\"Features:\", bow_feat)\n",
    "\n",
    "print(\"\\nTF-IDF Representation:\")\n",
    "print(tfidf)\n",
    "print(\"Features:\", tfidf_feat)\n"
   ]
  },
  {
   "cell_type": "code",
   "execution_count": null,
   "id": "a418ccd5-07f6-4129-a47a-d23ec0ac3e1c",
   "metadata": {},
   "outputs": [],
   "source": []
  }
 ],
 "metadata": {
  "kernelspec": {
   "display_name": "Python 3 (ipykernel)",
   "language": "python",
   "name": "python3"
  },
  "language_info": {
   "codemirror_mode": {
    "name": "ipython",
    "version": 3
   },
   "file_extension": ".py",
   "mimetype": "text/x-python",
   "name": "python",
   "nbconvert_exporter": "python",
   "pygments_lexer": "ipython3",
   "version": "3.12.7"
  }
 },
 "nbformat": 4,
 "nbformat_minor": 5
}
