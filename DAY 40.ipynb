{
 "cells": [
  {
   "cell_type": "code",
   "execution_count": 1,
   "id": "970484cb-918c-45c0-a5ae-fdc97e34b6e0",
   "metadata": {},
   "outputs": [
    {
     "name": "stdout",
     "output_type": "stream",
     "text": [
      "Predicted Category: spam\n"
     ]
    }
   ],
   "source": [
    "from sklearn.feature_extraction.text import TfidfVectorizer\n",
    "from sklearn.ensemble import RandomForestClassifier\n",
    "from sklearn.pipeline import make_pipeline\n",
    "\n",
    "def train_and_predict_rf(texts, labels, new_text):\n",
    "    # Create a pipeline with TfidfVectorizer and RandomForestClassifier\n",
    "    model = make_pipeline(TfidfVectorizer(), RandomForestClassifier(n_estimators=100, random_state=42))\n",
    "    \n",
    "    # Train the model\n",
    "    model.fit(texts, labels)\n",
    "    \n",
    "    # Predict the category of the new text\n",
    "    predicted_label = model.predict([new_text])[0]\n",
    "    \n",
    "    return predicted_label\n",
    "\n",
    "# Example usage\n",
    "texts = [\"Buy now and win a prize\", \"Normal email content\", \"Congratulations, you won!\", \"Meeting scheduled for tomorrow\", \"Claim your free gift now\"]\n",
    "labels = [\"spam\", \"ham\", \"spam\", \"ham\", \"spam\"]\n",
    "new_text = \"Exclusive offer just for you!\"\n",
    "predicted_category = train_and_predict_rf(texts, labels, new_text)\n",
    "\n",
    "print(f\"Predicted Category: {predicted_category}\")\n"
   ]
  },
  {
   "cell_type": "code",
   "execution_count": null,
   "id": "efd52830-7a8e-422e-923b-13dc29ae3ec5",
   "metadata": {},
   "outputs": [],
   "source": []
  }
 ],
 "metadata": {
  "kernelspec": {
   "display_name": "Python 3 (ipykernel)",
   "language": "python",
   "name": "python3"
  },
  "language_info": {
   "codemirror_mode": {
    "name": "ipython",
    "version": 3
   },
   "file_extension": ".py",
   "mimetype": "text/x-python",
   "name": "python",
   "nbconvert_exporter": "python",
   "pygments_lexer": "ipython3",
   "version": "3.12.7"
  }
 },
 "nbformat": 4,
 "nbformat_minor": 5
}
